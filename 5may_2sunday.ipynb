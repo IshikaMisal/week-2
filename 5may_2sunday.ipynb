{
  "nbformat": 4,
  "nbformat_minor": 0,
  "metadata": {
    "colab": {
      "name": "5may_2sunday.ipynb",
      "version": "0.3.2",
      "provenance": [],
      "collapsed_sections": []
    },
    "kernelspec": {
      "name": "python3",
      "display_name": "Python 3"
    }
  },
  "cells": [
    {
      "cell_type": "code",
      "metadata": {
        "id": "TdzaKwQFdzmi",
        "colab_type": "code",
        "colab": {}
      },
      "source": [
        "batch=[\"ishika\",\"pratiksha\",\"komal\",\"vedant\",\"dipesh\",\"nitin\",\"javin\",]\n",
        "len(batch)"
      ],
      "execution_count": 0,
      "outputs": []
    },
    {
      "cell_type": "markdown",
      "metadata": {
        "id": "pE5TXqhFfMLk",
        "colab_type": "text"
      },
      "source": [
        ""
      ]
    },
    {
      "cell_type": "code",
      "metadata": {
        "id": "i7qAFTBbfNK6",
        "colab_type": "code",
        "colab": {}
      },
      "source": [
        "list=[\"a\",\"b\",\"c\",\"d\"]\n",
        "list[1]=\"a\"\n",
        "list[0]=\"b\"\n",
        "print(list)\n"
      ],
      "execution_count": 0,
      "outputs": []
    },
    {
      "cell_type": "code",
      "metadata": {
        "id": "39IUnL-Jgug7",
        "colab_type": "code",
        "colab": {}
      },
      "source": [
        "a=int(input(\"no. of days:\"))\n",
        "b=int(input(\"total compoff:\"))\n",
        "x=1000*a\n",
        "y=2000*b\n",
        "salary=x+y\n",
        "if(a<=31):\n",
        "  if(b<=10):\n",
        "    print(\"your salary is:\", salary)\n",
        "else:\n",
        "  print(\"invalid input\")\n",
        "  "
      ],
      "execution_count": 0,
      "outputs": []
    },
    {
      "cell_type": "code",
      "metadata": {
        "id": "9EcmvV-8qsTZ",
        "colab_type": "code",
        "colab": {}
      },
      "source": [
        "x=[1,2,3,4,5,6,7,8,9,10]\n",
        "for i in x:\n",
        "  print(i)"
      ],
      "execution_count": 0,
      "outputs": []
    },
    {
      "cell_type": "code",
      "metadata": {
        "id": "V0_a1V3ErNj1",
        "colab_type": "code",
        "colab": {}
      },
      "source": [
        "batch=[\"ishika\",\"pratiksha\",\"komal\",\"vedant\",\"dipesh\",\"nitin\",\"javin\",]\n",
        "for i in batch:\n",
        "  print(i)"
      ],
      "execution_count": 0,
      "outputs": []
    },
    {
      "cell_type": "code",
      "metadata": {
        "id": "uYDGBi0YtPNu",
        "colab_type": "code",
        "colab": {}
      },
      "source": [
        "for i in range(0,10):\n",
        "  print(i)"
      ],
      "execution_count": 0,
      "outputs": []
    },
    {
      "cell_type": "code",
      "metadata": {
        "id": "rXygNLQGt387",
        "colab_type": "code",
        "colab": {}
      },
      "source": [
        "for i in range(100000,0,-1):\n",
        "  print(i)"
      ],
      "execution_count": 0,
      "outputs": []
    },
    {
      "cell_type": "code",
      "metadata": {
        "id": "hPFKCp7iuzy3",
        "colab_type": "code",
        "colab": {}
      },
      "source": [
        "x=\"vedant\"\n",
        "for letters in x:\n",
        "  print (letters)"
      ],
      "execution_count": 0,
      "outputs": []
    },
    {
      "cell_type": "code",
      "metadata": {
        "id": "SDA8JLwMvZ8l",
        "colab_type": "code",
        "colab": {}
      },
      "source": [
        "Alphabets=[\"A\",\"B\",\"C\",\"D\",\"E\",\"F\",\"G\",\"H\",\"I\",\"J\",\"K\",\"L\",\"M\",\"N\",\"O\",\"P\",\"Q\",\"R\",\"S\",\"T\",\"U\",\"V\",\"W\",\"X\",\"Y\",\"Z\"]\n",
        "Numbers=[1,2,3,4,5,6,7,8,9,10,11,12,13,14,15,16,17,18,19,20,21,22,23,24,25,26,27]\n",
        "for Number in Numbers:\n",
        "  print(Number)\n",
        "  for Alphabet in Alphabets:\n",
        "    print(Alphabet)\n"
      ],
      "execution_count": 0,
      "outputs": []
    },
    {
      "cell_type": "code",
      "metadata": {
        "id": "nXPsN8JyzEMG",
        "colab_type": "code",
        "colab": {}
      },
      "source": [
        "list=[1,2,3,4,5]\n",
        "for i in range(1,5):\n",
        "  print(i)\n",
        "while(i<=5):\n",
        "  print(i)\n",
        "    "
      ],
      "execution_count": 0,
      "outputs": []
    },
    {
      "cell_type": "code",
      "metadata": {
        "id": "xD_Xvfqe2kaP",
        "colab_type": "code",
        "colab": {}
      },
      "source": [
        "\n",
        "sum=0\n",
        "i=0\n",
        "number=int(input(\"kindly enter the positive integer number\"))\n",
        "while(i<=number):\n",
        "  sum=sum+i\n",
        "  i=i+1\n",
        "  print(sum)"
      ],
      "execution_count": 0,
      "outputs": []
    },
    {
      "cell_type": "code",
      "metadata": {
        "id": "0ZBEzlfm642R",
        "colab_type": "code",
        "colab": {}
      },
      "source": [
        " x=\"ABCDEFGHIJKLMNOPQRSTUVWXYZ\"\n",
        "y = x[0:27:3]\n",
        "print (y)"
      ],
      "execution_count": 0,
      "outputs": []
    },
    {
      "cell_type": "code",
      "metadata": {
        "id": "tzAkGzfOhgwi",
        "colab_type": "code",
        "colab": {}
      },
      "source": [
        "x=str(input(\"enter ur name: \"))\n",
        "'y=str(input(\"kindly enter the prefix for eg: u, o, i, t, z etc...: \"))\n",
        "z=int(input(\"initials to be taken to make a name: \"))\n",
        "print(x[0:z]+y,\"nickname\")\n"
      ],
      "execution_count": 0,
      "outputs": []
    },
    {
      "cell_type": "code",
      "metadata": {
        "id": "ko46umWbhnnC",
        "colab_type": "code",
        "colab": {}
      },
      "source": [
        "list=[\"ishika\",\"pratiksha\",\"komal\",\"vedant\",\"dipesh\",\"nitin\",\"javin\"]\n",
        "x= list[]\n",
        "y=str(input(\"kindly enter the prefix for eg: u, o, i, t, z etc...: \"))\n",
        "z=int(input(\"initials to be taken to make a name: \"))\n",
        "print(x[0:z]+y,\"nickname\")\n"
      ],
      "execution_count": 0,
      "outputs": []
    },
    {
      "cell_type": "code",
      "metadata": {
        "id": "veMOVZCChrjF",
        "colab_type": "code",
        "colab": {}
      },
      "source": [
        "batch=[\"ishika\",\"pratiksha\",\"komal\",\"vedant\",\"dipesh\",\"nitin\",\"javin\",]\n",
        "x=[\"sita\"]\n",
        "batch=batch+x\n",
        "batch.append(\"sita\")\n",
        "print(batch)\n",
        "y=[\"gita\"]\n",
        "batch=batch+y\n",
        "print(batch)\n",
        "batch.append(\"gita\")\n"
      ],
      "execution_count": 0,
      "outputs": []
    }
  ]
}