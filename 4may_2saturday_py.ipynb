{
  "nbformat": 4,
  "nbformat_minor": 0,
  "metadata": {
    "colab": {
      "name": "4may_2saturday.py",
      "version": "0.3.2",
      "provenance": []
    },
    "kernelspec": {
      "name": "python3",
      "display_name": "Python 3"
    }
  },
  "cells": [
    {
      "cell_type": "code",
      "metadata": {
        "id": "8cdeWVD1YXOU",
        "colab_type": "code",
        "colab": {}
      },
      "source": [
        "a = int(input(\"Enter ur number:\"))\n",
        "b = int(input(\"Enter ur second number:\"))\n",
        "c = int(input(\"Enter ur third number:\"))\n",
        "if a==b & b==c:\n",
        "  print(\"equal\")\n",
        "else:\n",
        "  print(\"not equal\")\n"
      ],
      "execution_count": 0,
      "outputs": []
    },
    {
      "cell_type": "code",
      "metadata": {
        "id": "3v0MmeKfZHvV",
        "colab_type": "code",
        "colab": {}
      },
      "source": [
        "a = 10\n",
        "b = 10\n",
        "c=(a==b)\n",
        "print(type(c))"
      ],
      "execution_count": 0,
      "outputs": []
    },
    {
      "cell_type": "code",
      "metadata": {
        "id": "yZBGunqHZdpb",
        "colab_type": "code",
        "colab": {}
      },
      "source": [
        "x = \"ishika\"\n",
        "y = \"u\"\n",
        "z = 3\n",
        "print(x[0:3] + \"u\")"
      ],
      "execution_count": 0,
      "outputs": []
    },
    {
      "cell_type": "code",
      "metadata": {
        "id": "rmTNsFvyam0Q",
        "colab_type": "code",
        "colab": {}
      },
      "source": [
        "x = \"ishika\"\n",
        "y = x[0:1:-2]\n",
        "print (y)"
      ],
      "execution_count": 0,
      "outputs": []
    },
    {
      "cell_type": "code",
      "metadata": {
        "id": "WGnacASHbU81",
        "colab_type": "code",
        "colab": {}
      },
      "source": [
        "x = 4\n",
        "y = 2\n",
        "print(\"x + y =\" , x + y)\n",
        "print(\"x-- y =\" , x - y)\n",
        "print(\"x * y =\" , x * y)\n",
        "print(\"x / y =\" , x / y)\n",
        "print(\"x // y =\" , x + y)\n",
        "print(\"x ** y =\" , x + y)\n",
        "print(\"x > y is\" , x > y)\n",
        "print(\"x < y is\" , x < y)\n",
        "print(\"x == y is\" , x == y)\n",
        "print(\"x != y is\" , x != y)\n",
        "print(\"x >= y is\" , x >= y)\n",
        "print(\"x <= y is\" , x <= y)\n",
        "print(\"x and y is\" , x and y)\n",
        "print(\"x or y is\" , x or y)\n",
        "print(\"not x is\" , not x )"
      ],
      "execution_count": 0,
      "outputs": []
    }
  ]
}